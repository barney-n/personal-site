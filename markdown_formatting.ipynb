{
 "cells": [
  {
   "cell_type": "code",
   "execution_count": 1,
   "metadata": {},
   "outputs": [],
   "source": [
    "import os"
   ]
  },
  {
   "cell_type": "code",
   "execution_count": 7,
   "metadata": {},
   "outputs": [],
   "source": [
    "fname = 'How to read a book.md'\n",
    "fpath = f'/Users/barnabynapier/Library/Mobile Documents/iCloud~md~obsidian/Documents/Knowledge/{fname}'\n",
    "\n",
    "# Replace upper case headings with title case\n",
    "\n",
    "newlines = []\n",
    "with open(fpath) as file:\n",
    "    lines = file.readlines()\n",
    "    for l in lines:\n",
    "        if l[0] == '#':\n",
    "            l = l.title()\n",
    "        newlines.append(l)\n",
    "with open(fpath, 'w') as file:\n",
    "    file.writelines(newlines)"
   ]
  }
 ],
 "metadata": {
  "kernelspec": {
   "display_name": "Python 3",
   "language": "python",
   "name": "python3"
  },
  "language_info": {
   "codemirror_mode": {
    "name": "ipython",
    "version": 3
   },
   "file_extension": ".py",
   "mimetype": "text/x-python",
   "name": "python",
   "nbconvert_exporter": "python",
   "pygments_lexer": "ipython3",
   "version": "3.7.6"
  },
  "orig_nbformat": 4
 },
 "nbformat": 4,
 "nbformat_minor": 2
}
